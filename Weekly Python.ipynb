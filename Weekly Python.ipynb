{
 "cells": [
  {
   "cell_type": "markdown",
   "metadata": {},
   "source": [
    "# <center>Weekly Python</center>"
   ]
  },
  {
   "cell_type": "markdown",
   "metadata": {},
   "source": [
    "## Week 1"
   ]
  },
  {
   "cell_type": "markdown",
   "metadata": {},
   "source": [
    "#### Tuples that add up to a given number"
   ]
  },
  {
   "cell_type": "code",
   "execution_count": 3,
   "metadata": {},
   "outputs": [],
   "source": [
    "def magic_tuple(to_this, below_this):\n",
    "    if below_this > to_this: \n",
    "        raise ValueError('The second number should be less than the first number.')\n",
    "    else:\n",
    "        for i in range(below_this-1, to_this-below_this,-1):\n",
    "            if to_this - i < below_this:\n",
    "                yield (i, to_this-i)"
   ]
  },
  {
   "cell_type": "code",
   "execution_count": 4,
   "metadata": {},
   "outputs": [
    {
     "name": "stdout",
     "output_type": "stream",
     "text": [
      "(7, 3)\n",
      "(6, 4)\n",
      "(5, 5)\n",
      "(4, 6)\n",
      "(3, 7)\n"
     ]
    }
   ],
   "source": [
    "for x in magic_tuple(10, 8):\n",
    "    print(x)"
   ]
  },
  {
   "cell_type": "markdown",
   "metadata": {},
   "source": [
    "## Week 2"
   ]
  },
  {
   "cell_type": "markdown",
   "metadata": {},
   "source": [
    "#### Classes with formatting"
   ]
  },
  {
   "cell_type": "code",
   "execution_count": 17,
   "metadata": {},
   "outputs": [],
   "source": [
    "class Item:\n",
    "    def __init__(self, quantity, measure, name, price):\n",
    "        self.name = name\n",
    "        self.quantity = quantity\n",
    "        self.measure = measure\n",
    "        self.price = price \n",
    "    \n",
    "    def __str__(self):\n",
    "        return (f'{self.quantity:>5} '\n",
    "                f'{self.measure:<5} '\n",
    "                f'{self.name:<10} @ $ '\n",
    "                f'{self.price:.1f}...$ '\n",
    "                f'{self.price*self.quantity:.1f} ')\n",
    "\n",
    "    \n",
    "    \n",
    "class Cart:\n",
    "    def __init__(self):\n",
    "        self.items = []\n",
    "    \n",
    "    def add(self, item):\n",
    "        self.items.append(item)\n",
    "    \n",
    "    def __format__(self, format_spec):\n",
    "        if format_spec == 'short':\n",
    "            return ', '.join([f'{item.name}' for item in sorted(self.items, key = lambda a: a.name)])\n",
    "        elif format_spec == 'long':\n",
    "            return '\\n'.join([f'\\t{item}' for item in sorted(self.items, key = lambda a: a.name)])   "
   ]
  },
  {
   "cell_type": "code",
   "execution_count": 18,
   "metadata": {},
   "outputs": [],
   "source": [
    "cart = Cart()"
   ]
  },
  {
   "cell_type": "code",
   "execution_count": 19,
   "metadata": {},
   "outputs": [],
   "source": [
    "cart.add(Item(1.5, 'kg', 'tomatoes', 5))\n",
    "cart.add(Item(2.0, 'kg','cucumbers', 4))"
   ]
  },
  {
   "cell_type": "code",
   "execution_count": 21,
   "metadata": {},
   "outputs": [
    {
     "name": "stdout",
     "output_type": "stream",
     "text": [
      "Your cart contains cucumbers, tomatoes\n"
     ]
    }
   ],
   "source": [
    "print(f'Your cart contains {cart:short}')"
   ]
  },
  {
   "cell_type": "markdown",
   "metadata": {},
   "source": [
    "## Week 3 "
   ]
  },
  {
   "cell_type": "markdown",
   "metadata": {},
   "source": [
    "#### Reading files, threading"
   ]
  },
  {
   "cell_type": "code",
   "execution_count": 10,
   "metadata": {},
   "outputs": [],
   "source": [
    "# in a function\n",
    "import glob\n",
    "def count_words(address):\n",
    "    lines = 0\n",
    "    nwords = 0\n",
    "    \n",
    "    for file in list(glob.glob(address)):\n",
    "        reader = open(file)\n",
    "        with reader:\n",
    "            for line in reader:\n",
    "                words = line.split()\n",
    "                lines+=1\n",
    "                nwords += len(words)\n",
    "    print(\"The number of words in all files is {}\".format(nwords))\n",
    "    "
   ]
  },
  {
   "cell_type": "code",
   "execution_count": 11,
   "metadata": {},
   "outputs": [
    {
     "name": "stdout",
     "output_type": "stream",
     "text": [
      "The number of words in all files is 1019\n"
     ]
    }
   ],
   "source": [
    "count_words(\"/Applications/Python 2.7/Extras/Demo/turtle/*.txt\")"
   ]
  },
  {
   "cell_type": "markdown",
   "metadata": {},
   "source": [
    "#### With Threading"
   ]
  },
  {
   "cell_type": "code",
   "execution_count": 13,
   "metadata": {},
   "outputs": [],
   "source": [
    "import threading"
   ]
  },
  {
   "cell_type": "code",
   "execution_count": null,
   "metadata": {},
   "outputs": [],
   "source": [
    "def count_words_t(address):\n",
    "    lines = 0\n",
    "    nwords = 0\n",
    "    \n",
    "    for file in list(glob.glob(address)):\n",
    "        reader = open(file)\n",
    "        with reader:\n",
    "            for line in reader:\n",
    "                words = line.split()\n",
    "                lines+=1\n",
    "                nwords += len(words)\n",
    "    print(\"The number of words in all files is {}\".format(nwords))\n",
    "\n",
    "loc = '/Applications/Python 2.7/Extras/Demo/turtle/*.txt'\n",
    "t = threading.Thread(target = count_words_t, name = 'thread1',\n",
    "                    args=(loc))\n",
    "t.start()\n",
    "t.join()"
   ]
  },
  {
   "cell_type": "code",
   "execution_count": 30,
   "metadata": {},
   "outputs": [
    {
     "name": "stdout",
     "output_type": "stream",
     "text": [
      "The number of words in all files is 1019\n"
     ]
    }
   ],
   "source": [
    "# just making a non-threading cased work\n",
    "import glob\n",
    "\n",
    "lines = 0\n",
    "nwords = 0\n",
    "# glob.glob(\"/Applications/Python 2.7/Extras/Demo/turtle/*.txt\") # getting all txt files in a folder\n",
    "for file in list(glob.glob(\"/Applications/Python 2.7/Extras/Demo/turtle/*.txt\")):\n",
    "    reader = open(file)\n",
    "    with reader:\n",
    "        for line in reader:\n",
    "            words = line.split()\n",
    "            lines+=1\n",
    "            nwords += len(words)\n",
    "print(\"The number of words in all files is {}\".format(nwords))"
   ]
  }
 ],
 "metadata": {
  "kernelspec": {
   "display_name": "Python 3",
   "language": "python",
   "name": "python3"
  },
  "language_info": {
   "codemirror_mode": {
    "name": "ipython",
    "version": 3
   },
   "file_extension": ".py",
   "mimetype": "text/x-python",
   "name": "python",
   "nbconvert_exporter": "python",
   "pygments_lexer": "ipython3",
   "version": "3.7.0"
  }
 },
 "nbformat": 4,
 "nbformat_minor": 2
}
