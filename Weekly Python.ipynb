{
 "cells": [
  {
   "cell_type": "markdown",
   "metadata": {},
   "source": [
    "# <center>Weekly Python</center>"
   ]
  },
  {
   "cell_type": "markdown",
   "metadata": {},
   "source": [
    "## Week 1"
   ]
  },
  {
   "cell_type": "markdown",
   "metadata": {},
   "source": [
    "#### Tuples that add up to a given number"
   ]
  },
  {
   "cell_type": "code",
   "execution_count": 3,
   "metadata": {},
   "outputs": [],
   "source": [
    "def magic_tuple(to_this, below_this):\n",
    "    if below_this > to_this: \n",
    "        raise ValueError('The second number should be less than the first number.')\n",
    "    else:\n",
    "        for i in range(below_this-1, to_this-below_this,-1):\n",
    "            if to_this - i < below_this:\n",
    "                yield (i, to_this-i)"
   ]
  },
  {
   "cell_type": "code",
   "execution_count": 4,
   "metadata": {},
   "outputs": [
    {
     "name": "stdout",
     "output_type": "stream",
     "text": [
      "(7, 3)\n",
      "(6, 4)\n",
      "(5, 5)\n",
      "(4, 6)\n",
      "(3, 7)\n"
     ]
    }
   ],
   "source": [
    "for x in magic_tuple(10, 8):\n",
    "    print(x)"
   ]
  },
  {
   "cell_type": "markdown",
   "metadata": {},
   "source": [
    "## Week 2"
   ]
  },
  {
   "cell_type": "markdown",
   "metadata": {},
   "source": [
    "#### Classes with formatting"
   ]
  },
  {
   "cell_type": "code",
   "execution_count": 17,
   "metadata": {},
   "outputs": [],
   "source": [
    "class Item:\n",
    "    def __init__(self, quantity, measure, name, price):\n",
    "        self.name = name\n",
    "        self.quantity = quantity\n",
    "        self.measure = measure\n",
    "        self.price = price \n",
    "    \n",
    "    def __str__(self):\n",
    "        return (f'{self.quantity:>5} '\n",
    "                f'{self.measure:<5} '\n",
    "                f'{self.name:<10} @ $ '\n",
    "                f'{self.price:.1f}...$ '\n",
    "                f'{self.price*self.quantity:.1f} ')\n",
    "\n",
    "    \n",
    "    \n",
    "class Cart:\n",
    "    def __init__(self):\n",
    "        self.items = []\n",
    "    \n",
    "    def add(self, item):\n",
    "        self.items.append(item)\n",
    "    \n",
    "    def __format__(self, format_spec):\n",
    "        if format_spec == 'short':\n",
    "            return ', '.join([f'{item.name}' for item in sorted(self.items, key = lambda a: a.name)])\n",
    "        elif format_spec == 'long':\n",
    "            return '\\n'.join([f'\\t{item}' for item in sorted(self.items, key = lambda a: a.name)])   "
   ]
  },
  {
   "cell_type": "code",
   "execution_count": 18,
   "metadata": {},
   "outputs": [],
   "source": [
    "cart = Cart()"
   ]
  },
  {
   "cell_type": "code",
   "execution_count": 19,
   "metadata": {},
   "outputs": [],
   "source": [
    "cart.add(Item(1.5, 'kg', 'tomatoes', 5))\n",
    "cart.add(Item(2.0, 'kg','cucumbers', 4))"
   ]
  },
  {
   "cell_type": "code",
   "execution_count": 21,
   "metadata": {},
   "outputs": [
    {
     "name": "stdout",
     "output_type": "stream",
     "text": [
      "Your cart contains cucumbers, tomatoes\n"
     ]
    }
   ],
   "source": [
    "print(f'Your cart contains {cart:short}')"
   ]
  },
  {
   "cell_type": "markdown",
   "metadata": {},
   "source": [
    "## Week 3 "
   ]
  },
  {
   "cell_type": "markdown",
   "metadata": {},
   "source": [
    "#### Reading files, threading"
   ]
  },
  {
   "cell_type": "code",
   "execution_count": 10,
   "metadata": {},
   "outputs": [],
   "source": [
    "# in a function\n",
    "import glob\n",
    "def count_words(address):\n",
    "    lines = 0\n",
    "    nwords = 0\n",
    "    \n",
    "    for file in list(glob.glob(address)):\n",
    "        reader = open(file)\n",
    "        with reader:\n",
    "            for line in reader:\n",
    "                words = line.split()\n",
    "                lines+=1\n",
    "                nwords += len(words)\n",
    "    print(\"The number of words in all files is {}\".format(nwords))\n",
    "    "
   ]
  },
  {
   "cell_type": "code",
   "execution_count": 11,
   "metadata": {},
   "outputs": [
    {
     "name": "stdout",
     "output_type": "stream",
     "text": [
      "The number of words in all files is 1019\n"
     ]
    }
   ],
   "source": [
    "count_words(\"/Applications/Python 2.7/Extras/Demo/turtle/*.txt\")"
   ]
  },
  {
   "cell_type": "markdown",
   "metadata": {},
   "source": [
    "#### With Threading"
   ]
  },
  {
   "cell_type": "code",
   "execution_count": 13,
   "metadata": {},
   "outputs": [],
   "source": [
    "import threading"
   ]
  },
  {
   "cell_type": "code",
   "execution_count": null,
   "metadata": {},
   "outputs": [],
   "source": [
    "def count_words_t(address):\n",
    "    lines = 0\n",
    "    nwords = 0\n",
    "    \n",
    "    for file in list(glob.glob(address)):\n",
    "        reader = open(file)\n",
    "        with reader:\n",
    "            for line in reader:\n",
    "                words = line.split()\n",
    "                lines+=1\n",
    "                nwords += len(words)\n",
    "    print(\"The number of words in all files is {}\".format(nwords))\n",
    "\n",
    "loc = '/Applications/Python 2.7/Extras/Demo/turtle/*.txt'\n",
    "t = threading.Thread(target = count_words_t, name = 'thread1',\n",
    "                    args=(loc))\n",
    "t.start()\n",
    "t.join()"
   ]
  },
  {
   "cell_type": "code",
   "execution_count": 30,
   "metadata": {},
   "outputs": [
    {
     "name": "stdout",
     "output_type": "stream",
     "text": [
      "The number of words in all files is 1019\n"
     ]
    }
   ],
   "source": [
    "# just making a non-threading cased work\n",
    "import glob\n",
    "\n",
    "lines = 0\n",
    "nwords = 0\n",
    "# glob.glob(\"/Applications/Python 2.7/Extras/Demo/turtle/*.txt\") # getting all txt files in a folder\n",
    "for file in list(glob.glob(\"/Applications/Python 2.7/Extras/Demo/turtle/*.txt\")):\n",
    "    reader = open(file)\n",
    "    with reader:\n",
    "        for line in reader:\n",
    "            words = line.split()\n",
    "            lines+=1\n",
    "            nwords += len(words)\n",
    "print(\"The number of words in all files is {}\".format(nwords))"
   ]
  },
  {
   "cell_type": "markdown",
   "metadata": {},
   "source": [
    "## Week 4"
   ]
  },
  {
   "cell_type": "markdown",
   "metadata": {},
   "source": [
    "#### Password checker"
   ]
  },
  {
   "cell_type": "code",
   "execution_count": null,
   "metadata": {},
   "outputs": [],
   "source": [
    "# function will take four parameters: min_uppercase, min_lowercase, min_punctuation, and min_digits. \n",
    "# These four parameters represent the minimum number of uppercase, lowercase, punctuation, and digits needed for a password\n",
    "# to be considered good.\n",
    "\n",
    "# The output from this create_password_checker is a function, one which takes a potential password (string) as its input,\n",
    "# and returns a two-element tuple: The first is a boolean value, indicating whether the password passed the validation test.\n",
    "# The second element of the tuple is a dictionary whose keys are \"uppercase\", \"lowercase\", \"punctuation\", and \"digits\" and\n",
    "# whose values represent by how much we've exceeded the minimum. If we haven't achieved the minimum, then the value will \n",
    "# be a negative number."
   ]
  },
  {
   "cell_type": "code",
   "execution_count": 3,
   "metadata": {},
   "outputs": [],
   "source": [
    "import string\n",
    "def create_password_checker(min_uppercase, min_lowercase, min_punctuation, min_digits):\n",
    "    def checker(read_str):\n",
    "        dict_to_return = {\n",
    "            \"uppercase\": uppercase_num - min_uppercase,\n",
    "            \"lowercase\": lowercase_num - min_lowercase,\n",
    "            \"punctuation\": punct_num - min_punctuation,\n",
    "            \"digits\": digits_num - min_digits\n",
    "        }\n",
    "        for i in read_str:\n",
    "            if i.isupper():\n",
    "                uppercase_num+=1\n",
    "            elif i.islower():\n",
    "                lowercase_num+=1\n",
    "            elif c in string.punctuation():\n",
    "                punct_num+=1\n",
    "            elif i.isdigit():\n",
    "                digits_num+=1\n",
    "        summary = sum(value>=0 for value in dict_to_return.values() == len(dict_to_return.keys()))\n",
    "        return summary, dict_to_return\n",
    "     return checker \n",
    "            "
   ]
  },
  {
   "cell_type": "markdown",
   "metadata": {},
   "source": [
    "## Week 6"
   ]
  },
  {
   "cell_type": "raw",
   "metadata": {},
   "source": [
    "Write a program to carry out the following experiment. A coin is tossed 100 times and the number of heads that turn up is recorded. This experiment is then repeated 1000 times. Have your program plot a bar graph for the proportion of the 1000 experiments in which the number of heads is n, for each n in the interval [35, 65]. Does the bar graph look as though it can be fit with a normal curve?"
   ]
  },
  {
   "cell_type": "code",
   "execution_count": 21,
   "metadata": {},
   "outputs": [],
   "source": [
    "from IPython.core.interactiveshell import InteractiveShell\n",
    "InteractiveShell.ast_node_interactivity = \"all\""
   ]
  },
  {
   "cell_type": "code",
   "execution_count": 3,
   "metadata": {},
   "outputs": [],
   "source": [
    "import random\n",
    "from random import randint\n",
    "from collections import Counter\n",
    "import matplotlib.pyplot as plt"
   ]
  },
  {
   "cell_type": "code",
   "execution_count": 14,
   "metadata": {},
   "outputs": [],
   "source": [
    "# Without 1K iterations\n",
    "flips = [randint(0,1) for r in range(101)]\n",
    "results = []\n",
    "heads, tails = 0,0 \n",
    "for obj in flips:\n",
    "    if obj == 0:\n",
    "        results.append('heads')\n",
    "        heads+=1\n",
    "    else: \n",
    "        results.append('tails')\n",
    "        tails+=1"
   ]
  },
  {
   "cell_type": "code",
   "execution_count": 22,
   "metadata": {},
   "outputs": [
    {
     "data": {
      "text/plain": [
       "Counter({'tails': 50, 'heads': 51})"
      ]
     },
     "execution_count": 22,
     "metadata": {},
     "output_type": "execute_result"
    },
    {
     "name": "stdout",
     "output_type": "stream",
     "text": [
      "heads are 51,tails are 50\n"
     ]
    }
   ],
   "source": [
    "# Checking the result\n",
    "Counter(results)\n",
    "print(\"heads are {},tails are {}\".format(heads,tails))"
   ]
  },
  {
   "cell_type": "code",
   "execution_count": 25,
   "metadata": {},
   "outputs": [],
   "source": [
    "def exper():\n",
    "    exper_n = 0\n",
    "    for i in range(1001):\n",
    "        flips = [randint(0,1) for r in range(101)]\n",
    "        results, heads, tails = [], 0, 0\n",
    "        for obj in flips:\n",
    "            if obj == 0:\n",
    "                results.append('heads')\n",
    "                heads+=1\n",
    "            else: \n",
    "                results.append('tails')\n",
    "                tails+=1\n",
    "        if heads == 57:\n",
    "            exper_n+=1\n",
    "    return exper_n"
   ]
  },
  {
   "cell_type": "code",
   "execution_count": 26,
   "metadata": {},
   "outputs": [
    {
     "data": {
      "text/plain": [
       "30"
      ]
     },
     "execution_count": 26,
     "metadata": {},
     "output_type": "execute_result"
    }
   ],
   "source": [
    "exper()"
   ]
  },
  {
   "cell_type": "code",
   "execution_count": 11,
   "metadata": {},
   "outputs": [],
   "source": [
    "# The main function\n",
    "def exper():\n",
    "    a = range(35,66)\n",
    "    global my_d # making the dictionary global in order to build a bar chart later \n",
    "    my_d = dict.fromkeys(a,0)\n",
    "    for i in range(1001):\n",
    "        flips = [randint(0,1) for r in range(101)]\n",
    "        results, heads, tails = [], 0, 0\n",
    "        for obj in flips:\n",
    "            if obj == 0:\n",
    "                results.append('heads')\n",
    "                heads+=1\n",
    "            else: \n",
    "                results.append('tails')\n",
    "                tails+=1\n",
    "        for j in my_d.keys():\n",
    "            if j == heads:\n",
    "                my_d[j]+=1\n",
    "    return my_d        "
   ]
  },
  {
   "cell_type": "code",
   "execution_count": 12,
   "metadata": {},
   "outputs": [
    {
     "data": {
      "text/plain": [
       "{35: 0,\n",
       " 36: 1,\n",
       " 37: 3,\n",
       " 38: 2,\n",
       " 39: 3,\n",
       " 40: 6,\n",
       " 41: 10,\n",
       " 42: 15,\n",
       " 43: 25,\n",
       " 44: 38,\n",
       " 45: 37,\n",
       " 46: 51,\n",
       " 47: 80,\n",
       " 48: 74,\n",
       " 49: 90,\n",
       " 50: 72,\n",
       " 51: 72,\n",
       " 52: 78,\n",
       " 53: 73,\n",
       " 54: 67,\n",
       " 55: 44,\n",
       " 56: 51,\n",
       " 57: 26,\n",
       " 58: 33,\n",
       " 59: 18,\n",
       " 60: 10,\n",
       " 61: 10,\n",
       " 62: 4,\n",
       " 63: 5,\n",
       " 64: 2,\n",
       " 65: 1}"
      ]
     },
     "execution_count": 12,
     "metadata": {},
     "output_type": "execute_result"
    }
   ],
   "source": [
    "exper()"
   ]
  },
  {
   "cell_type": "code",
   "execution_count": 14,
   "metadata": {},
   "outputs": [
    {
     "data": {
      "image/png": "[encoded data removed]",
      "text/plain": [
       "<Figure size 432x288 with 1 Axes>"
      ]
     },
     "metadata": {
      "needs_background": "light"
     },
     "output_type": "display_data"
    }
   ],
   "source": [
    "plt.bar(range(len(my_d)), list(my_d.values()), align='center')\n",
    "plt.xticks(range(len(my_d)), list(my_d.keys()), rotation = 45)\n",
    "plt.show()\n"
   ]
  }
 ],
 "metadata": {
  "kernelspec": {
   "display_name": "Python 3",
   "language": "python",
   "name": "python3"
  },
  "language_info": {
   "codemirror_mode": {
    "name": "ipython",
    "version": 3
   },
   "file_extension": ".py",
   "mimetype": "text/x-python",
   "name": "python",
   "nbconvert_exporter": "python",
   "pygments_lexer": "ipython3",
   "version": "3.7.0"
  }
 },
 "nbformat": 4,
 "nbformat_minor": 2
}
